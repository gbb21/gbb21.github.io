{
 "cells": [
  {
   "cell_type": "code",
   "execution_count": 2,
   "id": "7317f2d4",
   "metadata": {},
   "outputs": [],
   "source": [
    "import torch as tc\n",
    "import itertools as it\n",
    "from typing import List"
   ]
  },
  {
   "cell_type": "markdown",
   "id": "1ddc2b44",
   "metadata": {},
   "source": [
    "### Sample Gamma Distribution"
   ]
  },
  {
   "cell_type": "code",
   "execution_count": 3,
   "id": "f73da407",
   "metadata": {},
   "outputs": [
    {
     "data": {
      "text/plain": [
       "tensor([ 7.5377,  6.0586,  8.5526, 13.3349,  9.5487,  9.8054,  7.2889,  8.9643,\n",
       "        13.2315,  2.8670])"
      ]
     },
     "execution_count": 3,
     "metadata": {},
     "output_type": "execute_result"
    }
   ],
   "source": [
    "# gamma(alpha = 1, beta = 1) is exp(\\lambda = 1)\n",
    "# sample from gamma (1, 1) is same as sample from exp(1)\n",
    "# PDF(exp(1)) = 1 - e(-t)\n",
    "# invPDF(exp(1)) = -ln(1-t) = -ln(t)\n",
    "@tc.no_grad()\n",
    "def sample_gamma_a_1(n: int, a: int) -> tc.FloatTensor:\n",
    "\treturn -tc.rand(n, a, requires_grad=False).log().sum(dim = 1)\n",
    "sample_gamma_a_1(10, 8)"
   ]
  },
  {
   "cell_type": "markdown",
   "id": "0957fee4",
   "metadata": {},
   "source": [
    "### Sample Beta Distribution"
   ]
  },
  {
   "cell_type": "markdown",
   "id": "f39d73fd",
   "metadata": {},
   "source": [
    "1. for independent gamma random variable x, y, we have PDF as $f(x,y)=\\frac{1}{\\Gamma(\\alpha) \\Gamma(\\beta)} x^{\\alpha - 1} y^ {\\beta - 1} e^{-(x+y)}$\n",
    "2. Have $ u = \\frac{x}{x + y} $ and $ v = x + y$"
   ]
  },
  {
   "cell_type": "code",
   "execution_count": 4,
   "id": "a81acdb5",
   "metadata": {},
   "outputs": [
    {
     "data": {
      "text/plain": [
       "tensor([0.0287, 0.0060, 0.0792, 0.0999, 0.3192, 0.2688, 0.0229, 0.0521, 0.0711,\n",
       "        0.0852])"
      ]
     },
     "execution_count": 4,
     "metadata": {},
     "output_type": "execute_result"
    }
   ],
   "source": [
    "# x ~ Beta (A, B) is same as\n",
    "# x = a / (a + b) , where a ~ Gamma(A, 1), b ~ Gamma(B, 1)\n",
    "\n",
    "@tc.no_grad()\n",
    "def sample_beta_from_gamma(n: int, a: int, b: int) -> tc.FloatTensor:\n",
    "\tx = sample_gamma_a_1(n, a)\n",
    "\ty = sample_gamma_a_1(n, b)\n",
    "\treturn x / (x + y)\n",
    "\n",
    "sample_beta_from_gamma(10, 1, 10)"
   ]
  },
  {
   "cell_type": "markdown",
   "id": "7ff1881a",
   "metadata": {},
   "source": [
    "### Sample dirichlet with 2 methods"
   ]
  },
  {
   "cell_type": "code",
   "execution_count": 5,
   "id": "922637a0",
   "metadata": {},
   "outputs": [
    {
     "data": {
      "text/plain": [
       "tensor([[0.2218, 0.0781, 0.1213, 0.5788],\n",
       "        [0.1225, 0.1701, 0.6672, 0.0402]])"
      ]
     },
     "execution_count": 5,
     "metadata": {},
     "output_type": "execute_result"
    }
   ],
   "source": [
    "# Faster sample, proof https://en.wikipedia.org/wiki/Dirichlet_distribution#From_gamma_distribution\n",
    "@tc.no_grad()\n",
    "def sample_dirichlet_from_gamma(n: int, alphas: List[int]) -> tc.FloatTensor:\n",
    "\tsamples = tc.hstack([sample_gamma_a_1(n, a).unsqueeze(1) for a in alphas])\n",
    "\treturn samples / samples.sum(dim = 1, keepdim = True)\n",
    "\n",
    "sample_dirichlet_from_gamma(2, [1, 1, 1, 1])"
   ]
  },
  {
   "cell_type": "code",
   "execution_count": 6,
   "id": "3ec2df6f",
   "metadata": {},
   "outputs": [
    {
     "data": {
      "text/plain": [
       "tensor([[0.0469, 0.0304, 0.2721, 0.6506],\n",
       "        [0.1282, 0.0337, 0.5022, 0.3359]])"
      ]
     },
     "execution_count": 6,
     "metadata": {},
     "output_type": "execute_result"
    }
   ],
   "source": [
    "# sample from marginal distribution over each dim one by one\n",
    "# sample d - 1 times, and each time will \"cut off\" a segment\n",
    "# from the total left over segment (left over segment length\n",
    "# was initialized with 1)\n",
    "\n",
    "@tc.no_grad()\n",
    "def sample_dirichlet_from_beta(n: int, alphas: List[int]) -> tc.FloatTensor:\n",
    "\ttotal = tc.ones(n)\n",
    "\tpsumalpha = list(it.accumulate(reversed(alphas)))\n",
    "\tpsumalpha.pop()\n",
    "\tpsumalpha.reverse()\n",
    "\n",
    "\tsampled = []\n",
    "\tfor a, s in zip(alphas, psumalpha):\n",
    "\t\tx = total * sample_beta_from_gamma(n, a, s)\n",
    "\t\tsampled.append(x)\n",
    "\t\ttotal = total - x\n",
    "\tsampled.append(total)\n",
    "\treturn tc.vstack(sampled).T\n",
    "\n",
    "sample_dirichlet_from_beta(2, [1, 1, 1, 1])"
   ]
  }
 ],
 "metadata": {
  "kernelspec": {
   "display_name": "Python 3 (ipykernel)",
   "language": "python",
   "name": "python3"
  },
  "language_info": {
   "codemirror_mode": {
    "name": "ipython",
    "version": 3
   },
   "file_extension": ".py",
   "mimetype": "text/x-python",
   "name": "python",
   "nbconvert_exporter": "python",
   "pygments_lexer": "ipython3",
   "version": "3.9.16"
  }
 },
 "nbformat": 4,
 "nbformat_minor": 5
}
